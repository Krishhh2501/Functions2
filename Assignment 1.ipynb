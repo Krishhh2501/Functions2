{
 "cells": [
  {
   "cell_type": "code",
   "execution_count": 1,
   "id": "06ce4338",
   "metadata": {},
   "outputs": [
    {
     "name": "stdout",
     "output_type": "stream",
     "text": [
      "Enter a number:22\n",
      " The number is even\n"
     ]
    }
   ],
   "source": [
    "a = int(input('Enter a number:'))\n",
    "\n",
    "if (a%2==0):\n",
    "    print(' The number is even')\n",
    "else:\n",
    "    print(' The number is odd')"
   ]
  },
  {
   "cell_type": "code",
   "execution_count": 2,
   "id": "5d48330c",
   "metadata": {},
   "outputs": [
    {
     "name": "stdout",
     "output_type": "stream",
     "text": [
      "Enter a number:21\n",
      " The number is odd\n"
     ]
    }
   ],
   "source": [
    "a = int(input('Enter a number:'))\n",
    "\n",
    "if (a%2==0):\n",
    "    print(' The number is even')\n",
    "else:\n",
    "    print(' The number is odd')\n",
    "    "
   ]
  },
  {
   "cell_type": "code",
   "execution_count": null,
   "id": "a92cb09e",
   "metadata": {},
   "outputs": [],
   "source": []
  }
 ],
 "metadata": {
  "kernelspec": {
   "display_name": "Python 3 (ipykernel)",
   "language": "python",
   "name": "python3"
  },
  "language_info": {
   "codemirror_mode": {
    "name": "ipython",
    "version": 3
   },
   "file_extension": ".py",
   "mimetype": "text/x-python",
   "name": "python",
   "nbconvert_exporter": "python",
   "pygments_lexer": "ipython3",
   "version": "3.9.12"
  }
 },
 "nbformat": 4,
 "nbformat_minor": 5
}
